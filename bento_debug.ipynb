{
 "cells": [
  {
   "cell_type": "code",
   "execution_count": 1,
   "metadata": {},
   "outputs": [
    {
     "name": "stdout",
     "output_type": "stream",
     "text": [
      "/home/bispl/PycharmProjects/SPMM_bento/bento\n"
     ]
    }
   ],
   "source": [
    "%cd ./bento"
   ]
  },
  {
   "cell_type": "code",
   "execution_count": null,
   "metadata": {},
   "outputs": [],
   "source": [
    "from bentoml import HTTPServer\n",
    "import numpy as np\n",
    "\n",
    "# Initialize the server with the Bento\n",
    "server = HTTPServer(\"schyena:latest\", production=True, port=9999, host='0.0.0.0')\n",
    "\n",
    "# Start the server (non-blocking by default)\n",
    "server.start(blocking=False)\n",
    "\n",
    "# Get a client to make requests to the server\n",
    "client = server.get_client()\n",
    "\n",
    "# Send a request using the client\n",
    "result = client.celltype(np.array([[4.9, 3.0, 1.4, 0.2]]))\n",
    "print(result)"
   ]
  },
  {
   "cell_type": "code",
   "execution_count": 2,
   "metadata": {},
   "outputs": [],
   "source": [
    "import bentoml\n",
    "import numpy as np\n",
    "from bentoml.io import Text, NumpyNdarray, Multipart\n",
    "\n",
    "spmm_model = bentoml.models.get(\"spmm:latest\").to_runner()\n",
    "\n",
    "svc = bentoml.Service(\n",
    "    name=\"spmm\", runners=[spmm_model]\n",
    ")\n",
    "\n",
    "\n",
    "@svc.api(input=Text(), output=NumpyNdarray())\n",
    "async def SMILES_to_PV(smiles: str) -> np.ndarray:\n",
    "    pv_numpy = await spmm_model.async_run(mode='s2p', s2p_smiles=smiles)\n",
    "    return pv_numpy\n",
    "\n",
    "\n",
    "@svc.api(input=Multipart(pv=NumpyNdarray(), mask=NumpyNdarray()), output=Text())\n",
    "async def PV_to_SMILES(pv: np.ndarray, mask: np.ndarray) -> str:\n",
    "    smiles_list = await spmm_model.async_run(mode='p2s', p2s_prop=pv, p2s_mask=mask, stochastic=True, k=2, n_sample=5)\n",
    "    return ', '.join(smiles_list)\n"
   ]
  },
  {
   "cell_type": "code",
   "execution_count": 3,
   "metadata": {},
   "outputs": [
    {
     "name": "stderr",
     "output_type": "stream",
     "text": [
      "'Runner.init_local' is for debugging and testing only. Make sure to remove it before deploying to production.\n"
     ]
    }
   ],
   "source": [
    "for runner in svc.runners:\n",
    "    runner.init_local()"
   ]
  },
  {
   "cell_type": "code",
   "execution_count": 4,
   "metadata": {},
   "outputs": [
    {
     "name": "stdout",
     "output_type": "stream",
     "text": [
      "SMILES-to-PV generation...\n",
      "<class 'numpy.ndarray'>\n"
     ]
    }
   ],
   "source": [
    "# [INPUT] smiles: str\n",
    "inp = {\"smiles\": 'c1ccccc1',}\n",
    "\n",
    "result3 = await svc.apis[\"SMILES_to_PV\"].func(**inp)\n",
    "# [OUTPUT] result3: np.ndarray of shape(1, 53). The chemical property that each element correspond to is written in property_name.txt"
   ]
  },
  {
   "cell_type": "code",
   "execution_count": 5,
   "metadata": {},
   "outputs": [
    {
     "data": {
      "text/plain": [
       "array([[ 1.3196881e+00, -2.0923682e+02,  1.3778400e+00,  4.0086021e+00,\n",
       "         1.3090134e+00,  1.6224594e+00,  6.9206333e-01,  8.7461138e-01,\n",
       "         8.8629150e-01, -1.7562079e+00, -3.1797457e-01, -1.1945078e+01,\n",
       "        -4.8677278e-01, -3.7704479e+01,  8.1145874e+01,  7.1950597e-01,\n",
       "         1.0214431e+00,  1.2122636e+00,  4.6828002e-02, -2.3598409e-01,\n",
       "         1.8720291e+01,  7.7902802e+01,  2.5863609e+00,  1.0032511e-01,\n",
       "        -9.7812366e-01,  1.2028702e+01,  5.5590191e+00,  3.3168030e+00,\n",
       "        -3.5572699e-01, -6.5570199e-01, -3.1285763e-02,  8.3829498e+00,\n",
       "         9.6435272e+01, -1.1060255e+00, -1.3402748e+00, -1.9088373e-01,\n",
       "         4.9269855e-02,  4.2172730e-02, -5.4724681e-01,  5.6456578e-01,\n",
       "         6.1490953e-01, -7.1379232e-01,  2.0000148e-01, -7.4872589e-01,\n",
       "         6.3651544e-03, -1.2729344e+00, -1.2111440e-02,  1.4543086e-02,\n",
       "         1.5330017e-02,  8.8671570e+00,  1.0430523e+00, -5.5257034e+00,\n",
       "         3.5648382e-01]], dtype=float32)"
      ]
     },
     "execution_count": 5,
     "metadata": {},
     "output_type": "execute_result"
    }
   ],
   "source": [
    "result3"
   ]
  },
  {
   "cell_type": "code",
   "execution_count": 6,
   "metadata": {},
   "outputs": [
    {
     "name": "stdout",
     "output_type": "stream",
     "text": [
      "PV-to-SMILES generation...\n"
     ]
    },
    {
     "name": "stderr",
     "output_type": "stream",
     "text": [
      "100%|██████████| 5/5 [00:00<00:00,  7.93it/s]\n"
     ]
    }
   ],
   "source": [
    "from calc_property import calculate_property\n",
    "\n",
    "p2i = dict()\n",
    "with open('./property_name.txt', 'r') as f:\n",
    "    lines = f.readlines()\n",
    "for i, l in enumerate(lines):\n",
    "    p2i[l.strip()] = i\n",
    "\n",
    "# pv = calculate_property('COc1cccc(NC(=O)CN(C)C(=O)COC(=O)c2cc(c3cccs3)nc3ccccc23)c1').cpu().numpy()\n",
    "# mask = np.zeros(53)\n",
    "\n",
    "pv = np.zeros(53)\n",
    "pv[p2i['ExactMolWt']] = 150.# ExactMolWt=property with the index 14\n",
    "mask = np.array([1, 1, 1, 1, 1, 1, 1, 1, 1, 1, 1, 1, 1, 1, 0, 1, 1, 1, 1, 1, 1, 1, 1, 1, 1, 1, 1, 1, 1, 1, 1, 1, 1, 1, 1, 1, 1, 1, 1, 1, 1, 1, 1, 1, 1, 1, 1, 1, 1, 1, 1, 1, 1])\n",
    "\n",
    "# [INPUT] pv: np.ndarray of shape (53,), mask: np.ndarray of shape (53,). The mask should only contain 0 and 1, where 1 means that property input will be ignored.\n",
    "inp = {\"pv\":pv, \"mask\":mask}\n",
    "result1 = await svc.apis[\"PV_to_SMILES\"].func(**inp)\n",
    "# [OUTPUT] result1: str. This string contains 5 SMILES output, concatenated with comma."
   ]
  },
  {
   "cell_type": "code",
   "execution_count": 7,
   "metadata": {},
   "outputs": [
    {
     "data": {
      "text/plain": [
       "'N#CC1C(Cl)CCC1Cl, NC=C1CCCC(Cl)C1, CC(C)C1OC1C1CCCCC1, NC1C(Cl)CC(O)C1Cl, NC1CC2CCC(C1)C2Cl'"
      ]
     },
     "execution_count": 7,
     "metadata": {},
     "output_type": "execute_result"
    }
   ],
   "source": [
    "result1"
   ]
  },
  {
   "cell_type": "code",
   "execution_count": null,
   "metadata": {
    "collapsed": false
   },
   "outputs": [],
   "source": []
  }
 ],
 "metadata": {
  "kernelspec": {
   "display_name": "Python 3",
   "language": "python",
   "name": "python3"
  },
  "language_info": {
   "codemirror_mode": {
    "name": "ipython",
    "version": 3
   },
   "file_extension": ".py",
   "mimetype": "text/x-python",
   "name": "python",
   "nbconvert_exporter": "python",
   "pygments_lexer": "ipython3",
   "version": "3.10.13"
  },
  "orig_nbformat": 4
 },
 "nbformat": 4,
 "nbformat_minor": 2
}
