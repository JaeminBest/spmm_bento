{
 "cells": [
  {
   "cell_type": "code",
   "execution_count": 1,
   "metadata": {},
   "outputs": [
    {
     "name": "stdout",
     "output_type": "stream",
     "text": [
      "/home/jaemin/spmm_bento/bento\n"
     ]
    }
   ],
   "source": [
    "%cd ./bento"
   ]
  },
  {
   "cell_type": "code",
   "execution_count": 2,
   "metadata": {},
   "outputs": [
    {
     "name": "stderr",
     "output_type": "stream",
     "text": [
      "/home/jaemin/.pyenv/versions/3.10.12/envs/bento-env-310/lib/python3.10/site-packages/tqdm/auto.py:21: TqdmWarning: IProgress not found. Please update jupyter and ipywidgets. See https://ipywidgets.readthedocs.io/en/stable/user_install.html\n",
      "  from .autonotebook import tqdm as notebook_tqdm\n"
     ]
    }
   ],
   "source": [
    "import io\n",
    "from typing import List, Optional\n",
    "import bentoml\n",
    "import numpy as np\n",
    "from bentoml.io import Text, NumpyNdarray, JSON\n",
    "from pydantic import BaseModel\n",
    "\n",
    "spmm_model = bentoml.models.get(\"spmm:latest\").to_runner()\n",
    "get_pv_and_mask = bentoml.models.get(\"get_pv_and_mask:latest\").to_runner()\n",
    "\n",
    "svc = bentoml.Service(\n",
    "    name=\"spmm\", runners=[spmm_model,get_pv_and_mask]\n",
    ")\n",
    "\n",
    "\n",
    "@svc.api(input=Text(), output=NumpyNdarray())\n",
    "async def SMILES_to_PV(smiles: str) -> np.ndarray:\n",
    "    pv_numpy = await spmm_model.async_run(mode='s2p', s2p_smiles=smiles)\n",
    "    return pv_numpy\n",
    "\n",
    "class PV2SmilesDto(BaseModel):\n",
    "    property_names: List[str]\n",
    "    value: List[float]\n",
    "    num_samples: Optional[int] = 5\n",
    "\n",
    "@svc.api(input=JSON(pydantic_model=PV2SmilesDto), output=Text())\n",
    "async def PV_to_SMILES(dto:PV2SmilesDto) -> str:\n",
    "    property_name = dto.property_names\n",
    "    value = dto.value\n",
    "    d = await get_pv_and_mask.async_run(property_name, value)\n",
    "    pv = d[\"pv\"]\n",
    "    mask = d[\"mask\"]\n",
    "    smiles_list = await spmm_model.async_run(mode='p2s', p2s_prop=pv, p2s_mask=mask, stochastic=True, k=2, n_sample=dto.num_samples)\n",
    "    return ', '.join(smiles_list)\n"
   ]
  },
  {
   "cell_type": "code",
   "execution_count": 3,
   "metadata": {},
   "outputs": [
    {
     "name": "stderr",
     "output_type": "stream",
     "text": [
      "'Runner.init_local' is for debugging and testing only. Make sure to remove it before deploying to production.\n",
      "'Runner.init_local' is for debugging and testing only. Make sure to remove it before deploying to production.\n"
     ]
    }
   ],
   "source": [
    "for runner in svc.runners:\n",
    "    runner.init_local()"
   ]
  },
  {
   "cell_type": "code",
   "execution_count": 4,
   "metadata": {},
   "outputs": [
    {
     "name": "stdout",
     "output_type": "stream",
     "text": [
      "SMILES-to-PV generation...\n"
     ]
    }
   ],
   "source": [
    "# [INPUT] smiles: str\n",
    "inp = {\"smiles\": 'c1ccccc1',}\n",
    "\n",
    "result3 = await svc.apis[\"SMILES_to_PV\"].func(**inp)\n",
    "# [OUTPUT] result3: np.ndarray of shape(1, 53). The chemical property that each element correspond to is written in property_name.txt"
   ]
  },
  {
   "cell_type": "code",
   "execution_count": 5,
   "metadata": {},
   "outputs": [
    {
     "data": {
      "text/plain": [
       "array([[ 1.31968832e+00, -2.09236816e+02,  1.37784004e+00,\n",
       "         4.00860596e+00,  1.30901432e+00,  1.62245846e+00,\n",
       "         6.92060947e-01,  8.74613762e-01,  8.86291504e-01,\n",
       "        -1.75620604e+00, -3.17974567e-01, -1.19450760e+01,\n",
       "        -4.86771107e-01, -3.77045135e+01,  8.11459045e+01,\n",
       "         7.19506085e-01,  1.02144337e+00,  1.21226382e+00,\n",
       "         4.68280315e-02, -2.35983968e-01,  1.87203026e+01,\n",
       "         7.79028015e+01,  2.58636379e+00,  1.00324154e-01,\n",
       "        -9.78123188e-01,  1.20286713e+01,  5.55901814e+00,\n",
       "         3.31680298e+00, -3.55727106e-01, -6.55701399e-01,\n",
       "        -3.12857628e-02,  8.38295746e+00,  9.64353027e+01,\n",
       "        -1.10602570e+00, -1.34027624e+00, -1.90883666e-01,\n",
       "         4.92696762e-02,  4.21727896e-02, -5.47247171e-01,\n",
       "         5.64566016e-01,  6.14910007e-01, -7.13792801e-01,\n",
       "         2.00002313e-01, -7.48727798e-01,  6.36517815e-03,\n",
       "        -1.27293491e+00, -1.21113956e-02,  1.45430267e-02,\n",
       "         1.53303146e-02,  8.86715698e+00,  1.04305196e+00,\n",
       "        -5.52570343e+00,  3.56483817e-01]], dtype=float32)"
      ]
     },
     "execution_count": 5,
     "metadata": {},
     "output_type": "execute_result"
    }
   ],
   "source": [
    "result3"
   ]
  },
  {
   "cell_type": "code",
   "execution_count": 6,
   "metadata": {},
   "outputs": [
    {
     "name": "stdout",
     "output_type": "stream",
     "text": [
      "PV-to-SMILES generation...\n"
     ]
    },
    {
     "name": "stderr",
     "output_type": "stream",
     "text": [
      "  0%|          | 0/5 [00:00<?, ?it/s]"
     ]
    },
    {
     "name": "stderr",
     "output_type": "stream",
     "text": [
      "100%|██████████| 5/5 [00:00<00:00,  7.19it/s]\n"
     ]
    }
   ],
   "source": [
    "p2i = dict()\n",
    "with open('./property_name.txt', 'r') as f:\n",
    "    lines = f.readlines()\n",
    "for i, l in enumerate(lines):\n",
    "    p2i[l.strip()] = i\n",
    "\n",
    "# pv = calculate_property('COc1cccc(NC(=O)CN(C)C(=O)COC(=O)c2cc(c3cccs3)nc3ccccc23)c1').cpu().numpy()\n",
    "# mask = np.zeros(53)\n",
    "\n",
    "pv = np.zeros(53)\n",
    "pv[p2i['ExactMolWt']] = 150.# ExactMolWt=property with the index 14\n",
    "mask = np.array([1, 1, 1, 1, 1, 1, 1, 1, 1, 1, 1, 1, 1, 1, 0, 1, 1, 1, 1, 1, 1, 1, 1, 1, 1, 1, 1, 1, 1, 1, 1, 1, 1, 1, 1, 1, 1, 1, 1, 1, 1, 1, 1, 1, 1, 1, 1, 1, 1, 1, 1, 1, 1])\n",
    "\n",
    "# [INPUT] pv: np.ndarray of shape (53,), mask: np.ndarray of shape (53,). The mask should only contain 0 and 1, where 1 means that property input will be ignored.\n",
    "inp = {\"property_names\":['ExactMolWt'], \"value\":[150.] }\n",
    "result1 = await svc.apis[\"PV_to_SMILES\"].func(PV2SmilesDto(**inp))\n",
    "# [OUTPUT] result1: str. This string contains 5 SMILES output, concatenated with comma."
   ]
  },
  {
   "cell_type": "code",
   "execution_count": 7,
   "metadata": {},
   "outputs": [
    {
     "data": {
      "text/plain": [
       "'COC1=C(C)NC(C(C)C)=C1, N#CC=CC1CCCC1, CCC=CC1CCC(Cl)CC1, CNC(=S)NC1CCCC1, CC(C)CC1OC1CCCl'"
      ]
     },
     "execution_count": 7,
     "metadata": {},
     "output_type": "execute_result"
    },
    {
     "ename": "",
     "evalue": "",
     "output_type": "error",
     "traceback": [
      "\u001b[1;31mThe Kernel crashed while executing code in the the current cell or a previous cell. Please review the code in the cell(s) to identify a possible cause of the failure. Click <a href='https://aka.ms/vscodeJupyterKernelCrash'>here</a> for more info. View Jupyter <a href='command:jupyter.viewOutput'>log</a> for further details."
     ]
    }
   ],
   "source": [
    "result1"
   ]
  },
  {
   "cell_type": "code",
   "execution_count": null,
   "metadata": {
    "collapsed": false
   },
   "outputs": [],
   "source": []
  }
 ],
 "metadata": {
  "kernelspec": {
   "display_name": "Python 3",
   "language": "python",
   "name": "python3"
  },
  "language_info": {
   "codemirror_mode": {
    "name": "ipython",
    "version": 3
   },
   "file_extension": ".py",
   "mimetype": "text/x-python",
   "name": "python",
   "nbconvert_exporter": "python",
   "pygments_lexer": "ipython3",
   "version": "3.10.12"
  },
  "orig_nbformat": 4
 },
 "nbformat": 4,
 "nbformat_minor": 2
}
